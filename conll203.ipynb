{
 "cells": [
  {
   "cell_type": "code",
   "execution_count": 6,
   "metadata": {},
   "outputs": [],
   "source": [
    "import csv\n",
    "\n",
    "#fileinput  = 'data/esp.train'\n",
    "#fileinput  = 'data/esp.testa'\n",
    "fileinput  = 'data/esp.testb'\n",
    "#fileoutput = 'output/ner_esp_train_dataset_utf8.csv'\n",
    "#fileoutput = 'output/ner_esp_testa_dataset_utf8.csv'\n",
    "fileoutput = 'output/ner_esp_testb_dataset_utf8.csv'"
   ]
  },
  {
   "cell_type": "code",
   "execution_count": 7,
   "metadata": {},
   "outputs": [],
   "source": [
    "with open(fileoutput, mode='w') as ner_output_file:\n",
    "    ner_writer = csv.writer(ner_output_file, delimiter=',', quotechar='\"', quoting=csv.QUOTE_MINIMAL)\n",
    "\n",
    "    ner_writer.writerow(['Sentence #','Word','POS','Tag'])\n",
    "    \n",
    "    flat_lf         = 0\n",
    "    count_sentences = 1\n",
    "    \n",
    "    with open(fileinput) as fp:\n",
    "        for cnt, line in enumerate(fp):\n",
    "            x = line.split()\n",
    "            if cnt == 0:\n",
    "                ner_writer.writerow(['Sentence: ' + str(count_sentences), x[0], x[1], x[2]])\n",
    "            elif line != '\\n' and flat_lf == 1:\n",
    "                ner_writer.writerow(['Sentence: ' + str(count_sentences), x[0], x[1], x[2]])\n",
    "                flat_lf = 0\n",
    "            elif line != '\\n' and flat_lf == 0:\n",
    "                ner_writer.writerow(['', x[0], x[1], x[2]])\n",
    "                flat_lf = 0\n",
    "            else:\n",
    "                flat_lf = 1\n",
    "                count_sentences = count_sentences + 1"
   ]
  },
  {
   "cell_type": "code",
   "execution_count": null,
   "metadata": {},
   "outputs": [],
   "source": []
  }
 ],
 "metadata": {
  "kernelspec": {
   "display_name": "Python 3",
   "language": "python",
   "name": "python3"
  },
  "language_info": {
   "codemirror_mode": {
    "name": "ipython",
    "version": 3
   },
   "file_extension": ".py",
   "mimetype": "text/x-python",
   "name": "python",
   "nbconvert_exporter": "python",
   "pygments_lexer": "ipython3",
   "version": "3.7.6"
  }
 },
 "nbformat": 4,
 "nbformat_minor": 4
}
